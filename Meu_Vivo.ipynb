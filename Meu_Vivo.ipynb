{
  "nbformat": 4,
  "nbformat_minor": 0,
  "metadata": {
    "colab": {
      "name": "Meu Vivo.ipynb",
      "provenance": [],
      "authorship_tag": "ABX9TyMbj0hPrIfS44rb5AQlnqMK",
      "include_colab_link": true
    },
    "kernelspec": {
      "name": "python3",
      "display_name": "Python 3"
    },
    "language_info": {
      "name": "python"
    }
  },
  "cells": [
    {
      "cell_type": "markdown",
      "metadata": {
        "id": "view-in-github",
        "colab_type": "text"
      },
      "source": [
        "<a href=\"https://colab.research.google.com/github/dougldavid/meuVIvo/blob/main/Meu_Vivo.ipynb\" target=\"_parent\"><img src=\"https://colab.research.google.com/assets/colab-badge.svg\" alt=\"Open In Colab\"/></a>"
      ]
    },
    {
      "cell_type": "code",
      "metadata": {
        "colab": {
          "base_uri": "https://localhost:8080/"
        },
        "id": "AttgeCQiCif4",
        "outputId": "e08809ec-b0ab-4fda-c173-f451c3286890"
      },
      "source": [
        "pip install google-play-scraper\n"
      ],
      "execution_count": null,
      "outputs": [
        {
          "output_type": "stream",
          "text": [
            "Collecting google-play-scraper\n",
            "  Downloading google-play-scraper-1.0.0.tar.gz (52 kB)\n",
            "\u001b[?25l\r\u001b[K     |██████▎                         | 10 kB 22.0 MB/s eta 0:00:01\r\u001b[K     |████████████▋                   | 20 kB 10.6 MB/s eta 0:00:01\r\u001b[K     |███████████████████             | 30 kB 8.5 MB/s eta 0:00:01\r\u001b[K     |█████████████████████████▏      | 40 kB 8.0 MB/s eta 0:00:01\r\u001b[K     |███████████████████████████████▌| 51 kB 4.2 MB/s eta 0:00:01\r\u001b[K     |████████████████████████████████| 52 kB 606 kB/s \n",
            "\u001b[?25hBuilding wheels for collected packages: google-play-scraper\n",
            "  Building wheel for google-play-scraper (setup.py) ... \u001b[?25l\u001b[?25hdone\n",
            "  Created wheel for google-play-scraper: filename=google_play_scraper-1.0.0-py3-none-any.whl size=24086 sha256=04060e79b3c29039fb2d44f203ea2a7774c4347002b97d4adfc5062f156a19ce\n",
            "  Stored in directory: /root/.cache/pip/wheels/25/83/7b/2f340774a412770db567bdd52ba169685b18337c98c582ce5c\n",
            "Successfully built google-play-scraper\n",
            "Installing collected packages: google-play-scraper\n",
            "Successfully installed google-play-scraper-1.0.0\n"
          ],
          "name": "stdout"
        }
      ]
    },
    {
      "cell_type": "code",
      "metadata": {
        "id": "qNZCPB_dClRz"
      },
      "source": [
        "#Importando o comando app da library google-play-scraper\n",
        "from google_play_scraper import app"
      ],
      "execution_count": null,
      "outputs": []
    },
    {
      "cell_type": "code",
      "metadata": {
        "id": "krE_r7WGCrrx"
      },
      "source": [
        "#https://play.google.com/store/apps/details?id=br.com.vivo&hl=pt_BR&gl=US"
      ],
      "execution_count": null,
      "outputs": []
    },
    {
      "cell_type": "code",
      "metadata": {
        "colab": {
          "base_uri": "https://localhost:8080/"
        },
        "id": "17DAFvURC0wc",
        "outputId": "c01fe2d8-eeae-44b5-c57a-286ebc25a0e6"
      },
      "source": [
        "result = app('br.com.vivo', lang = 'pt', country = 'br')\n",
        "result"
      ],
      "execution_count": null,
      "outputs": [
        {
          "output_type": "execute_result",
          "data": {
            "text/plain": [
              "{'adSupported': None,\n",
              " 'androidVersion': '5.0',\n",
              " 'androidVersionText': '5.0 ou superior',\n",
              " 'appId': 'br.com.vivo',\n",
              " 'comments': [],\n",
              " 'containsAds': False,\n",
              " 'contentRating': 'Classificação Livre',\n",
              " 'contentRatingDescription': None,\n",
              " 'currency': 'BRL',\n",
              " 'description': 'O app Meu Vivo é o jeito mais fácil de gerenciar seus serviços Vivo. Por aqui você pode acompanhar o que acontece no seu plano, na hora que quiser.\\r\\n\\xa0\\r\\nVeja o que você pode fazer no Meu Vivo:\\r\\n• Consultar a 2ª via da sua conta e informar pagamentos;\\r\\n• Usar o código de barras para pagar sua conta;\\r\\n• Acompanhar o consumo da sua internet de forma rápida e fácil;\\r\\n• Consultar o saldo, a validade dos seus créditos e o extrato de consumo;\\r\\n• Ter mais informações sobre os benefícios do seu plano;\\r\\n• Compartilhar internet: se você é Cliente Vivo Turbo ou Vivo Controle (novos planos), pode enviar e pedir internet para seus contatos Vivo;\\r\\n• Ganhar mais praticidade no dia a dia cadastrando o Débito Automático e a Conta Digital (para receber sua conta via e-mail);\\r\\n• Ativar pacotes de dados;\\r\\n• Renovar, consultar ou ativar suas promoções;\\r\\n• Contar com o suporte técnico para tirar dúvidas e configurar a sua internet;\\r\\n• Receber recomendações de produtos e serviços Vivo através da aba ‘Descubra’;\\r\\n• Agendar seu atendimento nas lojas direto do celular;\\r\\n• Ativar o roaming internacional antes de viajar e contratar pacotes pelo Vivo Travel (Clientes Pós-pago).\\r\\n\\xa0\\r\\n\\xa0\\r\\nFacilidades para Clientes MultiVivo Plano Família:\\r\\n• Gerencie e distribua a franquia de internet entre as linhas titular e dependente;\\r\\n• Consulte individualmente a internet de todas as linhas do plano;\\r\\n• Visualize separadamente: consumo de dados, pacotes adicionais, bônus e Vivo Bis; Observação: somente a linha titular pode fazer novas configurações e gerenciar o plano.\\r\\nO aplicativo poderá efetuar testes de velocidade de download e upload cujos resultados serão utilizados, unicamente, para fins de estudos de performance da banda larga móvel.\\r\\n\\r\\n* Clientes Vivo Easy podem usar o app Vivo Easy e clientes Controle Cartão de Crédito, acessam o Meu Vivo somente pelo computador através de https://www.vivo.com.br/meuvivo',\n",
              " 'descriptionHTML': 'O app Meu Vivo é o jeito mais fácil de gerenciar seus serviços Vivo. Por aqui você pode acompanhar o que acontece no seu plano, na hora que quiser.<br>\\xa0<br>Veja o que você pode fazer no Meu Vivo:<br>• Consultar a 2ª via da sua conta e informar pagamentos;<br>• Usar o código de barras para pagar sua conta;<br>• Acompanhar o consumo da sua internet de forma rápida e fácil;<br>• Consultar o saldo, a validade dos seus créditos e o extrato de consumo;<br>• Ter mais informações sobre os benefícios do seu plano;<br>• Compartilhar internet: se você é Cliente Vivo Turbo ou Vivo Controle (novos planos), pode enviar e pedir internet para seus contatos Vivo;<br>• Ganhar mais praticidade no dia a dia cadastrando o Débito Automático e a Conta Digital (para receber sua conta via e-mail);<br>• Ativar pacotes de dados;<br>• Renovar, consultar ou ativar suas promoções;<br>• Contar com o suporte técnico para tirar dúvidas e configurar a sua internet;<br>• Receber recomendações de produtos e serviços Vivo através da aba ‘Descubra’;<br>• Agendar seu atendimento nas lojas direto do celular;<br>• Ativar o roaming internacional antes de viajar e contratar pacotes pelo Vivo Travel (Clientes Pós-pago).<br>\\xa0<br>\\xa0<br>Facilidades para Clientes MultiVivo Plano Família:<br>• Gerencie e distribua a franquia de internet entre as linhas titular e dependente;<br>• Consulte individualmente a internet de todas as linhas do plano;<br>• Visualize separadamente: consumo de dados, pacotes adicionais, bônus e Vivo Bis; Observação: somente a linha titular pode fazer novas configurações e gerenciar o plano.<br>O aplicativo poderá efetuar testes de velocidade de download e upload cujos resultados serão utilizados, unicamente, para fins de estudos de performance da banda larga móvel.<br><br>* Clientes Vivo Easy podem usar o app Vivo Easy e clientes Controle Cartão de Crédito, acessam o Meu Vivo somente pelo computador através de https://www.vivo.com.br/meuvivo',\n",
              " 'developer': 'VIVO S.A.',\n",
              " 'developerAddress': 'Av. Engenheiro Luís Carlos Berrini, 1.376\\nCEP: 04571-000 – São Paulo – SP\\n',\n",
              " 'developerEmail': 'appvivo.br@telefonica.com',\n",
              " 'developerId': 'VIVO+S.A.',\n",
              " 'developerInternalID': '7929784373551024027',\n",
              " 'developerWebsite': 'http://www.vivo.com.br/atendimento',\n",
              " 'editorsChoice': False,\n",
              " 'free': True,\n",
              " 'genre': 'Ferramentas',\n",
              " 'genreId': 'TOOLS',\n",
              " 'headerImage': 'https://play-lh.googleusercontent.com/hjMy15Ct9RrQ-YHiFC8tbId3SGCXW2RuCqw6ZdWMLaXkchWrb87NqHhUx6IGO2WSIA',\n",
              " 'histogram': [131550, 20964, 31725, 116518, 624432],\n",
              " 'icon': 'https://play-lh.googleusercontent.com/-HNOwAPskh0OmsrEVYi_rSCUSDhhDh29WEb4dR0XIJLq-C6J4iLRKN0MMupMRN4QGg',\n",
              " 'inAppProductPrice': None,\n",
              " 'installs': '50.000.000+',\n",
              " 'minInstalls': 50000000,\n",
              " 'offersIAP': False,\n",
              " 'originalPrice': None,\n",
              " 'price': 0,\n",
              " 'privacyPolicy': 'https://web.vivo.com.br/pages/legal/terms-and-conditions-index',\n",
              " 'ratings': 925189,\n",
              " 'recentChanges': 'Estamos em constante atualização para melhorar sua experiência no app. Confira o que preparamos para você nessa versão:\\r\\n\\r\\n•\\tCorreção de erros e melhorias no desempenho do aplicativo.\\r\\n',\n",
              " 'recentChangesHTML': 'Estamos em constante atualização para melhorar sua experiência no app. Confira o que preparamos para você nessa versão:<br><br>•\\tCorreção de erros e melhorias no desempenho do aplicativo.<br>',\n",
              " 'released': '27 de out. de 2011',\n",
              " 'reviews': 370632,\n",
              " 'sale': False,\n",
              " 'saleText': None,\n",
              " 'saleTime': None,\n",
              " 'score': 4.168752,\n",
              " 'screenshots': ['https://play-lh.googleusercontent.com/OtfWTsDK_HyIxMl8sASmYSmI418NcfSFyBj7y13fiGy_qRIbacJF96Wb5Xe1vVVtmAU',\n",
              "  'https://play-lh.googleusercontent.com/TxGp3YM0zkbFTdWV2kDxwmXdSS1gJuA6q3Zfue7T2XvP_77HFQ2Japi5G6YgHuJLVw',\n",
              "  'https://play-lh.googleusercontent.com/W-uuqRPxfueb1mU2Be1ZwFxCGveTi8bFYghzqk1dAbWbIDJHQdmQFAiouzyGnKQO5f0',\n",
              "  'https://play-lh.googleusercontent.com/JwHtnrcI2j_SlLCCbPANRaxLpV4_iCwmc3VNwVgEsK9w6142as1r8b2yd-oJXIiQe_Q',\n",
              "  'https://play-lh.googleusercontent.com/FAhYlB36VMhoLYyopMY9L8_SJiepsC6ZdiVdfYhjw0AMl9ItrAEcDIMu9ZahIao6Mf4'],\n",
              " 'size': '18M',\n",
              " 'summary': 'Gerencie seu plano Vivo e acompanhe seu consumo e extrato em um só lugar.',\n",
              " 'summaryHTML': 'Gerencie seu plano Vivo e acompanhe seu consumo e extrato em um só lugar.',\n",
              " 'title': 'Meu Vivo',\n",
              " 'updated': 1626196188,\n",
              " 'url': 'https://play.google.com/store/apps/details?id=br.com.vivo&hl=pt&gl=br',\n",
              " 'version': '12.4.30',\n",
              " 'video': None,\n",
              " 'videoImage': None}"
            ]
          },
          "metadata": {
            "tags": []
          },
          "execution_count": 4
        }
      ]
    },
    {
      "cell_type": "code",
      "metadata": {
        "id": "OkawDEagC9XO"
      },
      "source": [
        "#Baixando todos os reviews do app.\n",
        "from google_play_scraper import Sort, reviews_all\n",
        "\n",
        "#Comando para todas as reviews\n",
        "\n",
        "Reviews = reviews_all( 'br.com.vivo', lang = 'pt', country = 'br', sort = Sort.MOST_RELEVANT, sleep_milliseconds = 0)"
      ],
      "execution_count": null,
      "outputs": []
    },
    {
      "cell_type": "code",
      "metadata": {
        "colab": {
          "base_uri": "https://localhost:8080/",
          "height": 530
        },
        "id": "72pDi5WYDKA6",
        "outputId": "5cea6d70-7ecf-4919-d8f0-8c5c4d7e434e"
      },
      "source": [
        "#Importando pandas.\n",
        "import pandas as pd\n",
        "\n",
        "\n",
        "#Transformando os dados em um DataFrame para trabalharmos as análises.\n",
        "Reviews_Meu_Vivo = pd.DataFrame(Reviews)\n",
        "\n",
        "#Verificando a serie de dados.\n",
        "Reviews_Meu_Vivo.head(5)"
      ],
      "execution_count": null,
      "outputs": [
        {
          "output_type": "execute_result",
          "data": {
            "text/html": [
              "<div>\n",
              "<style scoped>\n",
              "    .dataframe tbody tr th:only-of-type {\n",
              "        vertical-align: middle;\n",
              "    }\n",
              "\n",
              "    .dataframe tbody tr th {\n",
              "        vertical-align: top;\n",
              "    }\n",
              "\n",
              "    .dataframe thead th {\n",
              "        text-align: right;\n",
              "    }\n",
              "</style>\n",
              "<table border=\"1\" class=\"dataframe\">\n",
              "  <thead>\n",
              "    <tr style=\"text-align: right;\">\n",
              "      <th></th>\n",
              "      <th>reviewId</th>\n",
              "      <th>userName</th>\n",
              "      <th>userImage</th>\n",
              "      <th>content</th>\n",
              "      <th>score</th>\n",
              "      <th>thumbsUpCount</th>\n",
              "      <th>reviewCreatedVersion</th>\n",
              "      <th>at</th>\n",
              "      <th>replyContent</th>\n",
              "      <th>repliedAt</th>\n",
              "    </tr>\n",
              "  </thead>\n",
              "  <tbody>\n",
              "    <tr>\n",
              "      <th>0</th>\n",
              "      <td>gp:AOqpTOF3fZ_aYg2kq88vKTPCJcLZTRzO6_m4tR-LSUY...</td>\n",
              "      <td>Máicon César Nickel Dilly</td>\n",
              "      <td>https://play-lh.googleusercontent.com/a-/AOh14...</td>\n",
              "      <td>Impressionante , de uns tempos para cá você si...</td>\n",
              "      <td>1</td>\n",
              "      <td>6</td>\n",
              "      <td>12.4.30</td>\n",
              "      <td>2021-07-23 19:45:39</td>\n",
              "      <td>Olá, Máicon! Vou te ajudar! Para que eu consig...</td>\n",
              "      <td>2021-07-24 11:56:19</td>\n",
              "    </tr>\n",
              "    <tr>\n",
              "      <th>1</th>\n",
              "      <td>gp:AOqpTOH7XVZFC4GKWrTI7FNBtAMI-fq-f9N6e3WvUht...</td>\n",
              "      <td>Ciro Pezzano</td>\n",
              "      <td>https://play-lh.googleusercontent.com/a/AATXAJ...</td>\n",
              "      <td>Voltem para o App de Outubro/20 Todas as infor...</td>\n",
              "      <td>3</td>\n",
              "      <td>318</td>\n",
              "      <td>12.4.30</td>\n",
              "      <td>2021-07-21 23:28:01</td>\n",
              "      <td>Olá! Vou te ajudar, Ciro. Não identificamos se...</td>\n",
              "      <td>2021-07-22 01:33:51</td>\n",
              "    </tr>\n",
              "    <tr>\n",
              "      <th>2</th>\n",
              "      <td>gp:AOqpTOEEuvN4zrUPE_JaQkHP0045MuX44UpxQeMvIZ_...</td>\n",
              "      <td>Taiana Rodrigues</td>\n",
              "      <td>https://play-lh.googleusercontent.com/a-/AOh14...</td>\n",
              "      <td>Está muito ruim no momento, há dias quero usar...</td>\n",
              "      <td>1</td>\n",
              "      <td>5</td>\n",
              "      <td>12.4.30</td>\n",
              "      <td>2021-07-23 21:04:04</td>\n",
              "      <td>Olá, Taiana! Deixa comigo, vou verificar o seu...</td>\n",
              "      <td>2021-07-24 12:52:04</td>\n",
              "    </tr>\n",
              "    <tr>\n",
              "      <th>3</th>\n",
              "      <td>gp:AOqpTOG1OD5q1B_kOtgdrCcRAb85ulyENsyE9-8XmGa...</td>\n",
              "      <td>Emmanuel T. Prada</td>\n",
              "      <td>https://play-lh.googleusercontent.com/a-/AOh14...</td>\n",
              "      <td>O serviço é muito bom, atendimento excelente e...</td>\n",
              "      <td>4</td>\n",
              "      <td>0</td>\n",
              "      <td>12.4.30</td>\n",
              "      <td>2021-07-23 16:02:09</td>\n",
              "      <td>Olá, Emmanuel! Vou verificar isso para você, e...</td>\n",
              "      <td>2021-07-23 16:20:09</td>\n",
              "    </tr>\n",
              "    <tr>\n",
              "      <th>4</th>\n",
              "      <td>gp:AOqpTOFMacBU59TeesIq0lamzBegCVchh-hx8u_8fBV...</td>\n",
              "      <td>Denisa Da Costa Morais</td>\n",
              "      <td>https://play-lh.googleusercontent.com/a/AATXAJ...</td>\n",
              "      <td>Quanto mais uso, mais raiva passo. Pessimo app...</td>\n",
              "      <td>1</td>\n",
              "      <td>277</td>\n",
              "      <td>12.4.30</td>\n",
              "      <td>2021-07-21 17:53:34</td>\n",
              "      <td>Olá, Denisa! Vou te ajudar. Para que eu consig...</td>\n",
              "      <td>2021-07-21 22:33:39</td>\n",
              "    </tr>\n",
              "  </tbody>\n",
              "</table>\n",
              "</div>"
            ],
            "text/plain": [
              "                                            reviewId  ...           repliedAt\n",
              "0  gp:AOqpTOF3fZ_aYg2kq88vKTPCJcLZTRzO6_m4tR-LSUY...  ... 2021-07-24 11:56:19\n",
              "1  gp:AOqpTOH7XVZFC4GKWrTI7FNBtAMI-fq-f9N6e3WvUht...  ... 2021-07-22 01:33:51\n",
              "2  gp:AOqpTOEEuvN4zrUPE_JaQkHP0045MuX44UpxQeMvIZ_...  ... 2021-07-24 12:52:04\n",
              "3  gp:AOqpTOG1OD5q1B_kOtgdrCcRAb85ulyENsyE9-8XmGa...  ... 2021-07-23 16:20:09\n",
              "4  gp:AOqpTOFMacBU59TeesIq0lamzBegCVchh-hx8u_8fBV...  ... 2021-07-21 22:33:39\n",
              "\n",
              "[5 rows x 10 columns]"
            ]
          },
          "metadata": {
            "tags": []
          },
          "execution_count": 8
        }
      ]
    }
  ]
}